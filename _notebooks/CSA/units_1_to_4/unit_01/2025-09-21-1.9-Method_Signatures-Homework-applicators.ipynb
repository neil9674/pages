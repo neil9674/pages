{
  "cells": [
    {
      "cell_type": "markdown",
      "metadata": {},
      "source": [
        "---\n",
        "layout: post\n",
        "toc: true\n",
        "title: Method Signatures — Homework (1.9)\n",
        "menu: nav/CSA_Nunits/csaunit1.html\n",
        "permalink: /csa/unit_01/1_9_hw\n",
        "author: Aashray, Sai, Manas\n",
        "---\n"
      ]
    },
    {
      "cell_type": "markdown",
      "metadata": {},
      "source": [
        "## AP CSA 1.9 — Method Signatures: Homework\n",
        "\n",
        "Complete all parts. Submit this executed notebook on GitHub Pages and answer MCQs on the Google Form.\n"
      ]
    },
    {
      "cell_type": "markdown",
      "metadata": {},
      "source": [
        "### MCQs\n",
        "1) Which pair is a valid overload?\n",
        "- A) `int f(int a)` and `int f(int x)`\n",
        "- B) `int f(int a)` and `double f(int a)`\n",
        "- C) `int f(int a)` and `double f(double a)`\n",
        "- D) `int f(int a, int b)` and `int f(int a, int b)`\n",
        "\n",
        "2) Which is the AP CSA notion of a method signature?\n",
        "- A) `public static int max(int a, int b)`\n",
        "- B) `max(int, int)`\n",
        "- C) `max(int a, int b) throws Exception`\n",
        "- D) `max(int, double)`\n",
        "\n",
        "3) With the overloads `void p(int x)` and `void p(double x)`, what prints?\n",
        "```java\n",
        "p(5);\n",
        "p(5.0);\n",
        "```\n",
        "- A) `int`, `double`\n",
        "- B) `double`, `double`\n",
        "- C) `int`, `int`\n",
        "- D) Compile error\n",
        "\n",
        "4) Which call is ambiguous with only these two methods?\n",
        "```java\n",
        "void h(long x) {}\n",
        "void h(float x) {}\n",
        "```\n",
        "- A) `h(5)`\n",
        "- B) `h(5.0)`\n",
        "- C) `h(5f)`\n",
        "- D) None are ambiguous\n",
        "\n",
        "5) Which statement is TRUE?\n",
        "- A) Parameter names affect the method signature.\n",
        "- B) Return type affects the method signature.\n",
        "- C) Access modifiers affect the method signature.\n",
        "- D) Overloading requires different parameter lists.\n"
      ]
    },
    {
      "cell_type": "markdown",
      "metadata": {},
      "source": [
        "### Short answer\n",
        "- Explain why `int sum(int a, int b)` and `double sum(int a, int b)` cannot both exist.\n",
        "- In one sentence, distinguish parameters vs arguments.\n"
      ]
    },
    {
      "cell_type": "markdown",
      "metadata": {},
      "source": [
        "### Coding Tasks (write Java in code blocks; pseudo-Java acceptable)\n",
        "1) Write three overloads of `abs`: `int abs(int x)`, `double abs(double x)`, and `long abs(long x)`.\n",
        "2) Implement two overloads of `concat`:\n",
        "   - `String concat(String a, String b)` returns concatenation.\n",
        "   - `String concat(String a, int n)` returns `a` repeated `n` times.\n",
        "3) Determine output:\n",
        "```java\n",
        "static void show(int x) { System.out.println(\"int\"); }\n",
        "static void show(double x) { System.out.println(\"double\"); }\n",
        "static void show(long x) { System.out.println(\"long\"); }\n",
        "\n",
        "show(7);\n",
        "show(7L);\n",
        "show(7.0);\n",
        "```\n",
        "Write the expected output and a one-line explanation for each.\n"
      ]
    },
    {
      "cell_type": "markdown",
      "metadata": {},
      "source": [
        "### FRQ-style\n",
        "- FRQ 1. `indexOf(char target, String s)`: return the index of first `target` in `s` or `-1` if not found. Overload with `indexOf(String target, String s)` for first substring occurrence (without using library indexOf). State assumptions and constraints.\n",
        "- FRQ 2. Overload `clamp`:\n",
        "  - `int clamp(int value, int low, int high)` returns `value` confined to `[low, high]`.\n",
        "  - `double clamp(double value, double low, double high)` similarly for doubles.\n",
        "  Handle the case `low > high` by swapping.\n"
      ]
    },
    {
      "cell_type": "markdown",
      "metadata": {},
      "source": [
        "### Submission checklist\n",
        "- MCQs completed on the Google Form.\n",
        "- This notebook executes top-to-bottom with outputs visible.\n",
        "- Answers are clear and concise.\n"
      ]
    },
    {
      "cell_type": "markdown",
      "metadata": {},
      "source": []
    }
  ],
  "metadata": {
    "language_info": {
      "name": "python"
    }
  },
  "nbformat": 4,
  "nbformat_minor": 2
}

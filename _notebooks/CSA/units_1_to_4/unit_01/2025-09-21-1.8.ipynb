{
 "cells": [
  {
   "cell_type": "markdown",
   "id": "d886c8cb",
   "metadata": {},
   "source": [
    "---\n",
    "layout: post\n",
    "toc: true\n",
    "title: Documentation with Comments\n",
    "menu: nav/CSA_Nunits/csaunit1.html\n",
    "permalink: /csa/unit_01/1_8\n",
    "author: Eshika Pallapotu, Nithika Vivek, Saanvi Dogra\n",
    "---"
   ]
  },
  {
   "cell_type": "markdown",
   "id": "e2d94e01",
   "metadata": {
    "vscode": {
     "languageId": "plaintext"
    }
   },
   "source": [
    "# CSA Unit 1.8: Documentation with Comments\n",
    "## Lesson Plan\n",
    "\n",
    "**Learning Objectives:**\n",
    "- Understand the purpose and importance of code documentation\n",
    "- Master Javadoc comment syntax and structure\n",
    "- Learn to write effective preconditions and postconditions\n",
    "- Apply documentation best practices to classes and methods\n",
    "\n",
    "**AP Exam Focus:** Required for FRQ responses, demonstrates professional programming practices\n",
    "\n",
    "---"
   ]
  },
  {
   "cell_type": "markdown",
   "id": "c3ad035b",
   "metadata": {},
   "source": [
    "We need 2 volunteers to come up to play a game!"
   ]
  },
  {
   "cell_type": "markdown",
   "id": "be88be74",
   "metadata": {
    "vscode": {
     "languageId": "plaintext"
    }
   },
   "source": [
    "## 📚 Part 1: Why Documentation Matters\n",
    "\n",
    "Documentation serves multiple audiences:\n",
    "- **Other developers:** How do I use this method? What parameters does it expect?\n",
    "- **Maintainers:** Why was this implemented this way? What are the edge cases?\n",
    "- **Testers:** What should this method do in different scenarios?\n",
    "- **Your future self:** Will you remember your logic in 3 months?\n",
    "\n",
    "**Think of documentation as the user manual for your code.**\n",
    "\n",
    "### Types of Java Comments:\n",
    "1. **Single-line comments:** `//` - Quick notes and explanations\n",
    "2. **Multi-line comments:** `/* */` - Longer explanations\n",
    "3. **Javadoc comments:** `/** */` - API documentation (our focus today!)\n",
    "\n",
    "---"
   ]
  },
  {
   "cell_type": "markdown",
   "id": "697c0a1a",
   "metadata": {
    "vscode": {
     "languageId": "plaintext"
    }
   },
   "source": [
    "## 🎯 Part 2: Javadoc Comment Structure\n",
    "\n",
    "Javadoc uses special tags to create comprehensive documentation:\n",
    "- `@param` - Describes a parameter\n",
    "- `@return` - Describes the return value\n",
    "- `@throws` - Describes exceptions that might be thrown\n",
    "\n",
    "**Basic Template:**\n",
    "```java\n",
    "/**\n",
    " * Brief description of what the method does.\n",
    " * \n",
    " * More detailed explanation if needed, including algorithm\n",
    " * information, usage notes, or important behaviors.\n",
    " *\n",
    " * @param paramName description of the parameter\n",
    " * @return description of what is returned\n",
    " */\n",
    "```\n",
    "\n",
    "---"
   ]
  },
  {
   "cell_type": "code",
   "execution_count": 1,
   "id": "ac434458",
   "metadata": {
    "vscode": {
     "languageId": "java"
    }
   },
   "outputs": [
    {
     "name": "stdout",
     "output_type": "stream",
     "text": [
      "Final Grade: 89.1\n"
     ]
    }
   ],
   "source": [
    "/**\n",
    " * Calculates the final grade for a student based on weighted categories.\n",
    " * The grade is computed using the formula: \n",
    " * (homework * 0.3) + (tests * 0.5) + (participation * 0.2)\n",
    " *\n",
    " * @param homework the average homework score (0.0 to 100.0)\n",
    " * @param tests the average test score (0.0 to 100.0)  \n",
    " * @param participation the participation score (0.0 to 100.0)\n",
    " * @return the weighted final grade as a percentage (0.0 to 100.0)\n",
    " */\n",
    "public double calculateFinalGrade(double homework, double tests, double participation) {\n",
    "    return homework * 0.3 + tests * 0.5 + participation * 0.2;\n",
    "}\n",
    "\n",
    "// Test the method\n",
    "System.out.println(\"Final Grade: \" + calculateFinalGrade(85.0, 92.0, 88.0));"
   ]
  },
  {
   "cell_type": "markdown",
   "id": "f8048d2a",
   "metadata": {},
   "source": [
    "## ✅ Part 3: Preconditions and Postconditions\n",
    "\n",
    "**Preconditions:** What must be true BEFORE the method is called\n",
    "**Postconditions:** What will be true AFTER the method completes successfully\n",
    "\n",
    "These create a **contract** between the method and its callers.\n",
    "\n",
    "### Why They Matter:\n",
    "- Clarify responsibilities\n",
    "- Define expected behavior\n",
    "- Help identify bugs\n",
    "- Essential for AP FRQs!\n",
    "\n",
    "---"
   ]
  },
  {
   "cell_type": "code",
   "execution_count": 2,
   "id": "7486d57e",
   "metadata": {
    "vscode": {
     "languageId": "java"
    }
   },
   "outputs": [],
   "source": [
    "/**\n",
    " * Withdraws money from the bank account.\n",
    " * \n",
    " * Preconditions: \n",
    " * - amount must be positive\n",
    " * - amount must not exceed current balance\n",
    " * - account must not be frozen\n",
    " * \n",
    " * Postconditions:\n",
    " * - balance is reduced by the withdrawal amount\n",
    " * - transaction is recorded in account history\n",
    " * - returns true if withdrawal successful\n",
    " *\n",
    " * @param amount the amount to withdraw (must be positive)\n",
    " * @return true if withdrawal successful, false otherwise\n",
    " */\n",
    "public boolean withdraw(double amount) {\n",
    "    if (amount <= 0 || amount > balance || isFrozen) {\n",
    "        return false;  // Precondition not met\n",
    "    }\n",
    "    \n",
    "    balance -= amount;\n",
    "    recordTransaction(\"Withdrawal\", amount);\n",
    "    return true;  // Postcondition satisfied\n",
    "}"
   ]
  },
  {
   "cell_type": "markdown",
   "id": "c7069af2",
   "metadata": {},
   "source": [
    "## 🏛️ Part 4: Class-Level Documentation\n",
    "\n",
    "Classes need documentation explaining their overall purpose and usage.\n",
    "\n",
    "**Key Elements:**\n",
    "- Overall purpose of the class\n",
    "- Key responsibilities\n",
    "- Usage examples\n",
    "- Important design decisions\n",
    "- Author and version information\n",
    "\n",
    "---"
   ]
  },
  {
   "cell_type": "code",
   "execution_count": 3,
   "id": "a0d8c9d2",
   "metadata": {
    "vscode": {
     "languageId": "java"
    }
   },
   "outputs": [],
   "source": [
    "/**\n",
    " * Represents a student in the school management system.\n",
    " * \n",
    " * This class maintains student information including personal details,\n",
    " * academic records, and enrollment status. It provides methods for\n",
    " * updating grades, managing course enrollment, and generating reports.\n",
    " * \n",
    " * Example usage:\n",
    " * <pre>\n",
    " * Student alice = new Student(\"Alice Johnson\", 12);\n",
    " * alice.enrollInCourse(\"AP Computer Science\");\n",
    " * alice.updateGrade(\"Math\", 95.5);\n",
    " * System.out.println(alice.getGPA());\n",
    " * </pre>\n",
    " *\n",
    " * @author Your Name\n",
    " * @version 1.0\n",
    " * @since 2024-01-15\n",
    " */\n",
    "public class Student {\n",
    "    private String name;\n",
    "    private int gradeLevel;\n",
    "    private ArrayList<String> courses;\n",
    "    private HashMap<String, Double> grades;\n",
    "    \n",
    "    // Constructor and methods...\n",
    "}"
   ]
  },
  {
   "cell_type": "markdown",
   "id": "bdab0599",
   "metadata": {},
   "source": [
    "## 💡 Part 5: Documentation Best Practices\n",
    "\n",
    "### ✅ DO:\n",
    "1. **Be specific and actionable** - \"sets the student's GPA to the specified value, rounded to one decimal place\"\n",
    "2. **Include examples for complex methods**\n",
    "3. **Document assumptions and limitations**\n",
    "4. **Update docs when code changes**\n",
    "5. **Focus on WHY, not just WHAT**\n",
    "\n",
    "### ❌ DON'T:\n",
    "1. **Over-document obvious code** - Simple getters/setters don't need documentation\n",
    "2. **Use vague descriptions** - \"processes the data\" tells us nothing\n",
    "3. **Forget edge cases** - What happens with null? Empty arrays?\n",
    "4. **Let documentation become outdated**\n",
    "\n",
    "---"
   ]
  },
  {
   "cell_type": "code",
   "execution_count": 4,
   "id": "9de83950",
   "metadata": {
    "vscode": {
     "languageId": "java"
    }
   },
   "outputs": [
    {
     "ename": "CompilationException",
     "evalue": "",
     "output_type": "error",
     "traceback": [
      "\u001b[1m\u001b[30m|   \u001b[1m\u001b[30m    \u001b[0m\u001b[1m\u001b[30m\u001b[41mthis\u001b[0m\u001b[1m\u001b[30m.name = normalizeName(name.trim());\u001b[0m",
      "\u001b[1m\u001b[31mnon-static variable this cannot be referenced from a static context\u001b[0m",
      "",
      "\u001b[1m\u001b[30m|   \u001b[1m\u001b[30m    \u001b[0m\u001b[1m\u001b[30m\u001b[41mthis.name\u001b[0m\u001b[1m\u001b[30m = normalizeName(name.trim());\u001b[0m",
      "\u001b[1m\u001b[31mcannot find symbol\u001b[0m",
      "\u001b[1m\u001b[31m  symbol: variable name\u001b[0m",
      "",
      "\u001b[1m\u001b[30m|   \u001b[1m\u001b[30m    this.name = \u001b[0m\u001b[1m\u001b[30m\u001b[41mnormalizeName\u001b[0m\u001b[1m\u001b[30m(name.trim());\u001b[0m",
      "\u001b[1m\u001b[31mcannot find symbol\u001b[0m",
      "\u001b[1m\u001b[31m  symbol:   method normalizeName(java.lang.String)\u001b[0m",
      ""
     ]
    }
   ],
   "source": [
    "// ❌ BAD: Over-documentation of obvious code\n",
    "/**\n",
    " * Gets the name.\n",
    " * @return the name\n",
    " */\n",
    "public String getName() {\n",
    "    return name;\n",
    "}\n",
    "\n",
    "// ✅ GOOD: No documentation needed for simple accessor\n",
    "public String getName() { \n",
    "    return name; \n",
    "}\n",
    "\n",
    "// ✅ GOOD: Document complex behavior\n",
    "/**\n",
    " * Updates the student's name with validation and normalization.\n",
    " * \n",
    " * Trims whitespace, converts to proper case, and validates that\n",
    " * the name contains only letters, spaces, hyphens, and apostrophes.\n",
    " *\n",
    " * @param name the new name (will be normalized)\n",
    " * @throws IllegalArgumentException if name is null, empty, or contains invalid characters\n",
    " */\n",
    "public void setNameWithValidation(String name) {\n",
    "    if (name == null || name.trim().isEmpty()) {\n",
    "        throw new IllegalArgumentException(\"Name cannot be null or empty\");\n",
    "    }\n",
    "    this.name = normalizeName(name.trim());\n",
    "}"
   ]
  },
  {
   "cell_type": "markdown",
   "id": "b364f26d",
   "metadata": {},
   "source": [
    "## 🎓 Part 6: AP Exam Connections\n",
    "\n",
    "### Multiple Choice Tips:\n",
    "- Know the difference between `//`, `/* */`, and `/** */`\n",
    "- Understand when documentation is most helpful\n",
    "- Recognize proper @param and @return usage\n",
    "\n",
    "### FRQ Requirements:\n",
    "- **Always document complex methods** - Shows programming maturity\n",
    "- **Explain your logic** - Helps scorers understand your intent\n",
    "- **Document non-obvious design decisions**\n",
    "- **Specify parameter constraints**\n",
    "\n",
    "### Quick Documentation Checklist:\n",
    "- ✓ Complex methods have clear purpose descriptions\n",
    "- ✓ Parameter constraints are specified\n",
    "- ✓ Return values are explained\n",
    "- ✓ Edge cases and error conditions are documented\n",
    "- ✓ Examples provided for non-obvious usage\n",
    "\n",
    "---"
   ]
  },
  {
   "cell_type": "markdown",
   "id": "2b44f1d1",
   "metadata": {},
   "source": [
    "## 🔧 Lesson Hack #1: Fix the Documentation\n",
    "\n",
    "**Task:** The following code has poor documentation. Rewrite it with proper Javadoc comments including preconditions and postconditions.\n",
    "\n",
    "```java\n",
    "// Does stuff with numbers\n",
    "public int doSomething(int[] nums) {\n",
    "    int result = 0;\n",
    "    for (int i = 0; i < nums.length; i++) {\n",
    "        if (nums[i] > 0 && nums[i] % 2 == 0) {\n",
    "            result += nums[i];\n",
    "        }\n",
    "    }\n",
    "    return result;\n",
    "}\n",
    "```\n",
    "\n",
    "**Your task:** Write proper Javadoc documentation for this method in the code cell below.\n",
    "\n",
    "---"
   ]
  },
  {
   "cell_type": "code",
   "execution_count": null,
   "id": "347c940e",
   "metadata": {
    "vscode": {
     "languageId": "java"
    }
   },
   "outputs": [],
   "source": [
    "/**\n",
    " * Calculates the sum of all positive even integers in the given array.\n",
    " *\n",
    " * <p>This method iterates through each element of the input array and checks if\n",
    " * the number is both positive and even. If so, the number is added to a running total.\n",
    " * The final sum of all qualifying numbers is returned.</p>\n",
    " *\n",
    " * <pre>\n",
    " * Example:\n",
    " *   Input: [1, 2, 3, 4, -6, 8]\n",
    " *   Output: 14  // (2 + 4 + 8)\n",
    " * </pre>\n",
    " *\n",
    " * @param nums an array of integers to process\n",
    " * @return the sum of all positive even integers in {@code nums}\n",
    " *\n",
    " * @pre nums != null\n",
    " * @post the return value is the total sum of all positive even integers in the array.\n",
    " *       The array itself remains unchanged.\n",
    " */\n",
    "public int doSomething(int[] nums) {\n",
    "    int result = 0;\n",
    "    for (int i = 0; i < nums.length; i++) {\n",
    "        if (nums[i] > 0 && nums[i] % 2 == 0) {\n",
    "            result += nums[i];\n",
    "        }\n",
    "    }\n",
    "    return result;\n",
    "}\n"
   ]
  },
  {
   "cell_type": "markdown",
   "id": "84ece20e",
   "metadata": {},
   "source": [
    "## Popcorn Hack #2: Write Class Documentation\n",
    "\n",
    "**Your Mission:** Add Javadoc comments to document this GradeBook class!\n",
    "\n",
    "**What to include:**\n",
    "- What does this class do? (purpose)\n",
    "- What are the main features? (key methods)\n",
    "- How would someone use it? (example)\n",
    "- Tags: @author, @version, @since\n",
    "```java\n",
    "// TODO: Add your class-level Javadoc here!\n",
    "// Hint: Start with /** and end with */\n",
    "\n",
    "public class GradeBook {\n",
    "    private HashMap<String, Double> assignments;\n",
    "    private HashMap<String, Double> categoryWeights;\n",
    "    private double extraCredit;\n",
    "    \n",
    "    // TODO: Document each method too!\n",
    "    public void addAssignment(String category, String name, double score) { }\n",
    "    \n",
    "    public void setCategoryWeight(String category, double weight) { }\n",
    "    \n",
    "    public double calculateFinalGrade() { }\n",
    "    \n",
    "    public String generateReport() { }\n",
    "}"
   ]
  },
  {
   "cell_type": "markdown",
   "id": "2e24f3b5",
   "metadata": {},
   "source": [
    "Check your answer below!"
   ]
  },
  {
   "cell_type": "code",
   "execution_count": null,
   "id": "2358b2f5",
   "metadata": {
    "vscode": {
     "languageId": "java"
    }
   },
   "outputs": [],
   "source": [
    "/**\n",
    " * The {@code GradeBook} class represents a simple grading system for managing assignments,\n",
    " * category weights, and extra credit for a student or course.\n",
    " * <p>\n",
    " * It allows users to add assignments, assign weight values to categories,\n",
    " * calculate a final weighted grade, and generate a formatted grade report.\n",
    " * </p>\n",
    " *\n",
    " * <p><strong>Key Features:</strong></p>\n",
    " * <ul>\n",
    " *   <li>Add assignments with a category, name, and score</li>\n",
    " *   <li>Set weight values for grading categories</li>\n",
    " *   <li>Calculate a final grade based on weighted scores and extra credit</li>\n",
    " *   <li>Generate a formatted report summarizing grades</li>\n",
    " * </ul>\n",
    " *\n",
    " * <p><strong>Usage Example:</strong></p>\n",
    " * <pre>\n",
    " * GradeBook gb = new GradeBook();\n",
    " * gb.setCategoryWeight(\"Homework\", 0.4);\n",
    " * gb.setCategoryWeight(\"Quizzes\", 0.3);\n",
    " * gb.setCategoryWeight(\"Exams\", 0.3);\n",
    " * gb.addAssignment(\"Homework\", \"HW1\", 95);\n",
    " * gb.addAssignment(\"Quizzes\", \"Quiz1\", 88);\n",
    " * double finalGrade = gb.calculateFinalGrade();\n",
    " * System.out.println(gb.generateReport());\n",
    " * </pre>\n",
    " *\n",
    " * @author Neil\n",
    " * @version 1.0\n",
    " * @since 2025-10-22\n",
    " */\n",
    "public class GradeBook {\n",
    "    private HashMap<String, Double> assignments;\n",
    "    private HashMap<String, Double> categoryWeights;\n",
    "    private double extraCredit;\n",
    "\n",
    "    /**\n",
    "     * Adds an assignment with the specified category, name, and score.\n",
    "     *\n",
    "     * @param category the category under which the assignment falls (e.g., \"Homework\")\n",
    "     * @param name the name or title of the assignment\n",
    "     * @param score the numerical score earned for the assignment\n",
    "     * @pre category != null && name != null && score >= 0\n",
    "     * @post the assignment is stored and can be used in grade calculations\n",
    "     */\n",
    "    public void addAssignment(String category, String name, double score) { }\n",
    "\n",
    "    /**\n",
    "     * Sets the weight of a specific category for grade calculation.\n",
    "     *\n",
    "     * @param category the name of the grading category (e.g., \"Quizzes\")\n",
    "     * @param weight the weight of the category as a decimal (e.g., 0.3 for 30%)\n",
    "     * @pre category != null && 0 <= weight <= 1\n",
    "     * @post the category weight is updated and used in final grade calculations\n",
    "     */\n",
    "    public void setCategoryWeight(String category, double weight) { }\n",
    "\n",
    "    /**\n",
    "     * Calculates the final grade based on assignment scores,\n",
    "     * category weights, and extra credit.\n",
    "     *\n",
    "     * @return the final weighted grade as a double\n",
    "     * @pre All relevant category weights are set and assignments are recorded\n",
    "     * @post The final grade value is computed without altering stored assignments\n",
    "     */\n",
    "    public double calculateFinalGrade() { \n",
    "        return 0.0;\n",
    "    }\n",
    "\n",
    "    /**\n",
    "     * Generates a formatted report of the student's performance,\n",
    "     * including assignments, categories, and final grade.\n",
    "     *\n",
    "     * @return a formatted string report summarizing grades\n",
    "     * @pre At least one assignment must be added\n",
    "     * @post The report is generated but no data is modified\n",
    "     */\n",
    "    public String generateReport() { \n",
    "        return \"\";\n",
    "    }\n",
    "}\n"
   ]
  },
  {
   "cell_type": "markdown",
   "id": "9461cca7",
   "metadata": {},
   "source": [
    "## 📝 Homework Assignment\n",
    "\n",
    "### Part 1: Documentation Analysis \n",
    "Rewrite the poorly written code. Write them with proper Javadoc comments.\n",
    "1. The original code:"
   ]
  },
  {
   "cell_type": "code",
   "execution_count": null,
   "id": "ef9efa33",
   "metadata": {
    "vscode": {
     "languageId": "java"
    }
   },
   "outputs": [],
   "source": [
    "/**\n",
    " * The {@code Stuff} class demonstrates a simple example of adding two integers\n",
    " * using a helper method and printing the result.\n",
    " *\n",
    " * <p>This class contains a {@code main} method that initializes two integer variables,\n",
    " * calls the {@code add} method to calculate their sum, and prints the result to the console.</p>\n",
    " *\n",
    " * <p><strong>Example Output:</strong></p>\n",
    " * <pre>\n",
    " * ans is 15\n",
    " * </pre>\n",
    " *\n",
    " * @author Neil\n",
    " * @version 1.0\n",
    " * @since 2025-10-22\n",
    " */\n",
    "public class Stuff {\n",
    "\n",
    "    /**\n",
    "     * The entry point of the program.\n",
    "     *\n",
    "     * @param args the command-line arguments (not used in this program)\n",
    "     * @pre none\n",
    "     * @post prints the sum of x and y to the console\n",
    "     */\n",
    "    public static void main(String[] args) {\n",
    "        int x = 5;\n",
    "        int y = 10;\n",
    "        int z = add(x, y);\n",
    "        System.out.println(\"ans is \" + z);\n",
    "    }\n",
    "\n",
    "    /**\n",
    "     * Adds two integers and returns their sum.\n",
    "     *\n",
    "     * @param a the first integer\n",
    "     * @param b the second integer\n",
    "     * @return the sum of {@code a} and {@code b}\n",
    "     * @pre none\n",
    "     * @post returns a + b without modifying any variables\n",
    "     */\n",
    "    static int add(int a, int b) {\n",
    "        return a + b;\n",
    "    }\n",
    "}\n"
   ]
  },
  {
   "cell_type": "markdown",
   "id": "cace0026",
   "metadata": {},
   "source": [
    "\n",
    "Submit:\n",
    "\n",
    "2. Your improved version\n",
    "3. A brief explanation of what you improved\n",
    "\n",
    "### Part 2: \n",
    "Problem 1: Document a Complex Method\n",
    "Write complete Javadoc documentation for this method:\n",
    "\n",
    "public boolean enrollStudent(String studentId, String courseCode, int semester) {\n",
    "    Student student = findStudentById(studentId);\n",
    "    if (student == null) return false;\n",
    "\n",
    "    Course course = findCourseByCode(courseCode);\n",
    "    if (course == null) return false;\n",
    "\n",
    "    if (course.isFull()) return false;\n",
    "    if (student.hasScheduleConflict(course)) return false;\n",
    "    if (!student.hasPrerequisites(course)) return false;\n",
    "    if (student.getCreditHours() + course.getCreditHours() > 18) return false;\n",
    "\n",
    "    student.addCourse(course);\n",
    "    course.addStudent(student);\n",
    "    recordEnrollmentTransaction(studentId, courseCode, semester);\n",
    "    return true;\n",
    "}\n",
    "\n",
    "\n",
    "### Part 3: Reflection Questions \n",
    "1. Why is documentation more important in team projects than solo projects?\n",
    "2. Give an example of when a method SHOULD be documented and when it SHOULD NOT.\n",
    "\n",
    "**Submit:** A Jupyter notebook or Java file with all three parts completed.\n",
    "\n",
    "---"
   ]
  },
  {
   "cell_type": "markdown",
   "id": "1b063ed3",
   "metadata": {},
   "source": [
    "## 🎯 Key Takeaways\n",
    "\n",
    "1. **Documentation is communication** - Write for others (and your future self)\n",
    "2. **Javadoc format matters** - Use `/** */` with proper tags\n",
    "3. **Preconditions and postconditions create contracts** - Essential for reliable code\n",
    "4. **Balance is key** - Don't over-document obvious code, but thoroughly document complex logic\n",
    "5. **Keep it updated** - Outdated documentation is worse than no documentation\n",
    "6. **AP Exam success** - Good documentation demonstrates programming maturity on FRQs\n",
    "\n",
    "### Remember:\n",
    "> \"Code tells you HOW, documentation tells you WHY\"\n",
    "\n",
    "**The collaborative mindset:** Write documentation that you would want to find when using someone else's code. Be specific, be helpful, and anticipate questions.\n",
    "\n",
    "---\n",
    "\n",
    "## 📚 Additional Resources\n",
    "- [Oracle Java Documentation Guidelines](https://www.oracle.com/technical-resources/articles/java/javadoc-tool.html)\n",
    "- [AP Computer Science A Course Description](https://apcentral.collegeboard.org/)\n",
    "- Practice writing documentation for existing code projects!"
   ]
  },
  {
   "cell_type": "markdown",
   "id": "11f14ac0",
   "metadata": {},
   "source": [
    "## 🏆 Challenge Problems (Extra Credit)\n",
    "\n",
    "### Challenge 1: Document a Recursive Method\n",
    "Write complete documentation for a recursive method including base case, recursive case, and complexity analysis.\n",
    "\n",
    "### Challenge 2: Team Documentation Standard\n",
    "Create a documentation style guide for a team project. Include:\n",
    "- When to document (and when not to)\n",
    "- Required tags for different method types\n",
    "- Example templates\n",
    "- Common mistakes to avoid\n",
    "\n",
    "### Challenge 3: Documentation Detective\n",
    "Find a poorly documented open-source project. Write improved documentation for one class and submit a comparison showing before/after.\n",
    "\n",
    "---\n",
    "\n",
    "**End of Lesson - Happy Documenting! 📚✨**"
   ]
  }
 ],
 "metadata": {
  "kernelspec": {
   "display_name": "Java",
   "language": "java",
   "name": "java"
  },
  "language_info": {
   "codemirror_mode": "java",
   "file_extension": ".jshell",
   "mimetype": "text/x-java-source",
   "name": "Java",
   "pygments_lexer": "java",
   "version": "17.0.16+8-Ubuntu-0ubuntu122.04.1"
  }
 },
 "nbformat": 4,
 "nbformat_minor": 5
}
